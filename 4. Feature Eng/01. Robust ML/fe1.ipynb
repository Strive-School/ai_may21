{
 "cells": [
  {
   "cell_type": "markdown",
   "metadata": {},
   "source": [
    "## Imports"
   ]
  },
  {
   "cell_type": "code",
   "execution_count": 100,
   "metadata": {},
   "outputs": [],
   "source": [
    "# pip install --upgrade scikit-learn"
   ]
  },
  {
   "cell_type": "code",
   "execution_count": 1,
   "metadata": {
    "colab": {},
    "colab_type": "code",
    "id": "mjnuJ19dJV7v"
   },
   "outputs": [
    {
     "output_type": "stream",
     "name": "stdout",
     "text": [
      "Pandas   1.2.5\nSklearn  0.24.2\n"
     ]
    }
   ],
   "source": [
    "import time\n",
    "from IPython.display import clear_output\n",
    "import numpy    as np\n",
    "import pandas   as pd\n",
    "import seaborn  as sb\n",
    "import matplotlib.pyplot as plt\n",
    "import sklearn  as skl\n",
    "\n",
    "from sklearn import pipeline      # Pipeline\n",
    "from sklearn import preprocessing # OrdinalEncoder, LabelEncoder\n",
    "from sklearn import impute\n",
    "from sklearn import compose\n",
    "from sklearn import model_selection # train_test_split\n",
    "from sklearn import metrics         # accuracy_score, balanced_accuracy_score, plot_confusion_matrix\n",
    "from sklearn import set_config\n",
    "\n",
    "set_config(display='diagram') # Useful for display the pipeline\n",
    "\n",
    "print(\"Pandas  \", pd.__version__)\n",
    "print(\"Sklearn \", skl.__version__) # Try to use 0.24"
   ]
  },
  {
   "cell_type": "markdown",
   "metadata": {},
   "source": [
    "## Get the dataset\n",
    "- **CLOUD = True**: Download dataset from Kaggle. Necesary for cloud enviroments like COLAB. **Specify your [kaggle credentials](https://www.kaggle.com/docs/api)**.\n",
    "- **CLOUD = False**: Get the dataset from your local machine. **Specify the data path**."
   ]
  },
  {
   "cell_type": "code",
   "execution_count": 2,
   "metadata": {},
   "outputs": [],
   "source": [
    "DATA_PATH = \"../../Datasets/Tabular/titanic/\""
   ]
  },
  {
   "cell_type": "markdown",
   "metadata": {},
   "source": [
    "## Load data"
   ]
  },
  {
   "cell_type": "code",
   "execution_count": 3,
   "metadata": {
    "colab": {},
    "colab_type": "code",
    "id": "wAy8TnVPJV8S"
   },
   "outputs": [
    {
     "output_type": "stream",
     "name": "stdout",
     "text": [
      "Train DataFrame: (891, 11)\nTest DataFrame:  (418, 10)\n"
     ]
    }
   ],
   "source": [
    "df      = pd.read_csv(DATA_PATH + \"train.csv\", index_col='PassengerId')\n",
    "df_test = pd.read_csv(DATA_PATH + \"test.csv\",  index_col='PassengerId')\n",
    "\n",
    "print(\"Train DataFrame:\", df.shape)\n",
    "print(\"Test DataFrame: \", df_test.shape)"
   ]
  },
  {
   "cell_type": "markdown",
   "metadata": {},
   "source": [
    "## Check missings"
   ]
  },
  {
   "cell_type": "code",
   "execution_count": 104,
   "metadata": {},
   "outputs": [],
   "source": [
    "# df.isnull().sum()"
   ]
  },
  {
   "cell_type": "code",
   "execution_count": 105,
   "metadata": {},
   "outputs": [],
   "source": [
    "# df_test.isnull().sum()"
   ]
  },
  {
   "cell_type": "markdown",
   "metadata": {},
   "source": [
    "# Exercise 1 (2pts):\n",
    "Extract the title (Mr, Mrs, ... ) from the \"Name\" column.\n",
    "\n",
    "Tips:\n",
    "- split(',')[1] to get the 2nd part, and remove the surnamename\n",
    "- split('.')[0] to get the 1str part, and remove the name"
   ]
  },
  {
   "cell_type": "code",
   "execution_count": 4,
   "metadata": {
    "nbgrader": {
     "grade": false,
     "grade_id": "cell-d56107842f0f54d2",
     "locked": false,
     "schema_version": 3,
     "solution": true,
     "task": false
    }
   },
   "outputs": [],
   "source": [
    "# CODE HERE get_Title_from_Name funtion\n",
    "# Create this function using lambda (not def)\n",
    "\n",
    "get_Title_from_Name = lambda name: name.split(',')[1].split('.')[0].strip()\n",
    "# Your code goes here\n",
    "\n",
    "df['Title']      = df['Name'].apply(get_Title_from_Name)\n",
    "df_test['Title'] = df_test['Name'].apply(get_Title_from_Name)"
   ]
  },
  {
   "cell_type": "code",
   "execution_count": 5,
   "metadata": {
    "nbgrader": {
     "grade": true,
     "grade_id": "cell-f3d989a17018344b",
     "locked": true,
     "points": 2,
     "schema_version": 3,
     "solution": false,
     "task": false
    }
   },
   "outputs": [],
   "source": [
    "assert df['Title'].values[0] == \"Mr\"\n",
    "assert df['Title'].values[1] == \"Mrs\"\n",
    "assert df['Title'].values[2] == \"Miss\"\n",
    "\n",
    "assert df_test['Title'].values[0] == \"Mr\"\n",
    "assert df_test['Title'].values[1] == \"Mrs\"\n",
    "assert df_test['Title'].values[414] == \"Dona\""
   ]
  },
  {
   "cell_type": "markdown",
   "metadata": {},
   "source": [
    "# Exercise 2 (1pts):\n",
    "Apply the title_dictionary to get a better information about the title. You have to overwrite the Title variable."
   ]
  },
  {
   "cell_type": "code",
   "execution_count": 81,
   "metadata": {},
   "outputs": [],
   "source": [
    "title_dictionary = {\n",
    "    \"Capt\": \"Officer\",\n",
    "    \"Col\": \"Officer\",\n",
    "    \"Major\": \"Officer\",\n",
    "    \"Jonkheer\": \"Royalty\",\n",
    "    \"Don\": \"Royalty\",\n",
    "    \"Sir\" : \"Royalty\",\n",
    "    \"Dr\": \"Officer\",\n",
    "    \"Rev\": \"Officer\",\n",
    "    \"the Countess\":\"Royalty\",\n",
    "    \"Mme\": \"Mrs\",\n",
    "    \"Mlle\": \"Miss\",\n",
    "    \"Ms\": \"Mrs\",\n",
    "    \"Mr\" : \"Mr\",\n",
    "    \"Mrs\" : \"Mrs\",\n",
    "    \"Miss\" : \"Miss\",\n",
    "    \"Master\" : \"Master\",\n",
    "    \"Lady\" : \"Royalty\"\n",
    "}"
   ]
  },
  {
   "cell_type": "code",
   "execution_count": 82,
   "metadata": {
    "nbgrader": {
     "grade": false,
     "grade_id": "cell-5c6a842c812fafda",
     "locked": false,
     "schema_version": 3,
     "solution": true,
     "task": false
    }
   },
   "outputs": [],
   "source": [
    "# Use map to apply the prevous dict\n",
    "#\n",
    "\n",
    "df['Title']      = df.Title.map(title_dictionary)\n",
    "df_test['Title'] = df_test.Title.map(title_dictionary)\n",
    "\n",
    "# Your code goes here"
   ]
  },
  {
   "cell_type": "code",
   "execution_count": 83,
   "metadata": {
    "nbgrader": {
     "grade": true,
     "grade_id": "cell-669f5a637e57e835",
     "locked": true,
     "points": 1,
     "schema_version": 3,
     "solution": false,
     "task": false
    }
   },
   "outputs": [
    {
     "output_type": "error",
     "ename": "AssertionError",
     "evalue": "",
     "traceback": [
      "\u001b[1;31m---------------------------------------------------------------------------\u001b[0m",
      "\u001b[1;31mAssertionError\u001b[0m                            Traceback (most recent call last)",
      "\u001b[1;32m<ipython-input-83-319aac91d420>\u001b[0m in \u001b[0;36m<module>\u001b[1;34m\u001b[0m\n\u001b[1;32m----> 1\u001b[1;33m \u001b[1;32massert\u001b[0m \u001b[0mdf\u001b[0m\u001b[1;33m[\u001b[0m\u001b[1;34m'Title'\u001b[0m\u001b[1;33m]\u001b[0m\u001b[1;33m.\u001b[0m\u001b[0mvalues\u001b[0m\u001b[1;33m[\u001b[0m\u001b[1;36m886\u001b[0m\u001b[1;33m]\u001b[0m \u001b[1;33m==\u001b[0m \u001b[1;34m\"Officer\"\u001b[0m\u001b[1;33m\u001b[0m\u001b[1;33m\u001b[0m\u001b[0m\n\u001b[0m\u001b[0;32m      2\u001b[0m \u001b[1;32massert\u001b[0m \u001b[0mdf_test\u001b[0m\u001b[1;33m[\u001b[0m\u001b[1;34m'Title'\u001b[0m\u001b[1;33m]\u001b[0m\u001b[1;33m.\u001b[0m\u001b[0mvalues\u001b[0m\u001b[1;33m[\u001b[0m\u001b[1;36m417\u001b[0m\u001b[1;33m]\u001b[0m \u001b[1;33m==\u001b[0m \u001b[1;34m\"Master\"\u001b[0m\u001b[1;33m\u001b[0m\u001b[1;33m\u001b[0m\u001b[0m\n",
      "\u001b[1;31mAssertionError\u001b[0m: "
     ]
    }
   ],
   "source": [
    "assert df['Title'].values[886] == \"Officer\"\n",
    "assert df_test['Title'].values[417] == \"Master\""
   ]
  },
  {
   "cell_type": "markdown",
   "metadata": {},
   "source": [
    "# Exercise OPTINAL (0pts):\n",
    "Try to extract some information from the feature **Ticket**. Search on Internet if that colum has some kind of information."
   ]
  },
  {
   "cell_type": "code",
   "execution_count": 9,
   "metadata": {},
   "outputs": [
    {
     "output_type": "execute_result",
     "data": {
      "text/plain": [
       "PassengerId\n",
       "892                 330911\n",
       "893                 363272\n",
       "894                 240276\n",
       "895                 315154\n",
       "896                3101298\n",
       "               ...        \n",
       "1305             A.5. 3236\n",
       "1306              PC 17758\n",
       "1307    SOTON/O.Q. 3101262\n",
       "1308                359309\n",
       "1309                  2668\n",
       "Name: Ticket, Length: 418, dtype: object"
      ]
     },
     "metadata": {},
     "execution_count": 9
    }
   ],
   "source": [
    "df_test['Ticket']"
   ]
  },
  {
   "cell_type": "markdown",
   "metadata": {},
   "source": [
    "# Exercise OPTIONAL (0pts):\n",
    "Try to extract some information from the feature **Cabin**. Search on Internet if that colum has some kind of information."
   ]
  },
  {
   "cell_type": "code",
   "execution_count": 10,
   "metadata": {},
   "outputs": [
    {
     "output_type": "stream",
     "name": "stdout",
     "text": [
      "327\n"
     ]
    }
   ],
   "source": [
    "print(df_test['Cabin'].isna().sum())"
   ]
  },
  {
   "cell_type": "markdown",
   "metadata": {},
   "source": [
    "# Preprocessing\n",
    "For X data, notice that...\n",
    "- We drop Survived because is the target variable\n",
    "- We drop Name because we have extracted the Title: Mr, Mrs, ...\n",
    "- We drop Ticket because it has no information -> see df.Ticket.nunique()\n",
    "- We drop Cabin because it has a lot of missings (77% are missings)\n",
    "\n",
    "Then, we identify **numerical** variables and **categorical** variables,"
   ]
  },
  {
   "cell_type": "code",
   "execution_count": 11,
   "metadata": {},
   "outputs": [],
   "source": [
    "x = df.drop(columns=[\"Survived\", 'Name', 'Ticket', 'Cabin']) # X DATA (WILL BE TRAIN+VALID DATA)\n",
    "y = df[\"Survived\"] # 0 = No, 1 = Yes\n",
    "\n",
    "x_test = df_test.drop(columns=['Name', 'Ticket', 'Cabin']) # # X_TEST DATA (NEW DATA)"
   ]
  },
  {
   "cell_type": "code",
   "execution_count": 12,
   "metadata": {},
   "outputs": [
    {
     "output_type": "stream",
     "name": "stdout",
     "text": [
      "\nNumerical features:\n ['Pclass', 'SibSp', 'Parch', 'Fare', 'Age']\n\nCategorical features:\n ['Sex', 'Embarked', 'Title']\n"
     ]
    }
   ],
   "source": [
    "cat_vars  = ['Sex', 'Embarked', 'Title']         # x.select_dtypes(include=[object]).columns.values.tolist()\n",
    "num_vars  = ['Pclass', 'SibSp', 'Parch', 'Fare', 'Age'] # x.select_dtypes(exclude=[object]).columns.values.tolist()\n",
    "\n",
    "print(\"\\nNumerical features:\\n\", num_vars)\n",
    "print(\"\\nCategorical features:\\n\", cat_vars)"
   ]
  },
  {
   "cell_type": "markdown",
   "metadata": {},
   "source": [
    "# Exercise 3 (2pts):\n",
    "Create a **ColumnTransformer for Tree Models**. You need to create 2 pipelines (one for numerical and other for categories). Remember:\n",
    "- Categorical pipeline: Some SimpleImputer -> Some Encoder\n",
    "- Numerical pipeline: Some SimpleImputer -> NO Encoder"
   ]
  },
  {
   "cell_type": "code",
   "execution_count": 92,
   "metadata": {
    "nbgrader": {
     "grade": false,
     "grade_id": "cell-c607e75fb38ea248",
     "locked": false,
     "schema_version": 3,
     "solution": true,
     "task": false
    }
   },
   "outputs": [
    {
     "output_type": "execute_result",
     "data": {
      "text/plain": [
       "ColumnTransformer(transformers=[('num',\n",
       "                                 Pipeline(steps=[('imputer', SimpleImputer())]),\n",
       "                                 ['Pclass', 'SibSp', 'Parch', 'Fare', 'Age']),\n",
       "                                ('cat',\n",
       "                                 Pipeline(steps=[('imputer',\n",
       "                                                  SimpleImputer(fill_value='missing',\n",
       "                                                                strategy='constant')),\n",
       "                                                 ('ordinal',\n",
       "                                                  OrdinalEncoder(handle_unknown='use_encoded_value',\n",
       "                                                                 unknown_value=10))]),\n",
       "                                 ['Sex', 'Embarked', 'Title'])])"
      ],
      "text/html": "<style>#sk-f7bdb885-8941-4a8d-a041-259cbb9abdc3 {color: black;background-color: white;}#sk-f7bdb885-8941-4a8d-a041-259cbb9abdc3 pre{padding: 0;}#sk-f7bdb885-8941-4a8d-a041-259cbb9abdc3 div.sk-toggleable {background-color: white;}#sk-f7bdb885-8941-4a8d-a041-259cbb9abdc3 label.sk-toggleable__label {cursor: pointer;display: block;width: 100%;margin-bottom: 0;padding: 0.2em 0.3em;box-sizing: border-box;text-align: center;}#sk-f7bdb885-8941-4a8d-a041-259cbb9abdc3 div.sk-toggleable__content {max-height: 0;max-width: 0;overflow: hidden;text-align: left;background-color: #f0f8ff;}#sk-f7bdb885-8941-4a8d-a041-259cbb9abdc3 div.sk-toggleable__content pre {margin: 0.2em;color: black;border-radius: 0.25em;background-color: #f0f8ff;}#sk-f7bdb885-8941-4a8d-a041-259cbb9abdc3 input.sk-toggleable__control:checked~div.sk-toggleable__content {max-height: 200px;max-width: 100%;overflow: auto;}#sk-f7bdb885-8941-4a8d-a041-259cbb9abdc3 div.sk-estimator input.sk-toggleable__control:checked~label.sk-toggleable__label {background-color: #d4ebff;}#sk-f7bdb885-8941-4a8d-a041-259cbb9abdc3 div.sk-label input.sk-toggleable__control:checked~label.sk-toggleable__label {background-color: #d4ebff;}#sk-f7bdb885-8941-4a8d-a041-259cbb9abdc3 input.sk-hidden--visually {border: 0;clip: rect(1px 1px 1px 1px);clip: rect(1px, 1px, 1px, 1px);height: 1px;margin: -1px;overflow: hidden;padding: 0;position: absolute;width: 1px;}#sk-f7bdb885-8941-4a8d-a041-259cbb9abdc3 div.sk-estimator {font-family: monospace;background-color: #f0f8ff;margin: 0.25em 0.25em;border: 1px dotted black;border-radius: 0.25em;box-sizing: border-box;}#sk-f7bdb885-8941-4a8d-a041-259cbb9abdc3 div.sk-estimator:hover {background-color: #d4ebff;}#sk-f7bdb885-8941-4a8d-a041-259cbb9abdc3 div.sk-parallel-item::after {content: \"\";width: 100%;border-bottom: 1px solid gray;flex-grow: 1;}#sk-f7bdb885-8941-4a8d-a041-259cbb9abdc3 div.sk-label:hover label.sk-toggleable__label {background-color: #d4ebff;}#sk-f7bdb885-8941-4a8d-a041-259cbb9abdc3 div.sk-serial::before {content: \"\";position: absolute;border-left: 1px solid gray;box-sizing: border-box;top: 2em;bottom: 0;left: 50%;}#sk-f7bdb885-8941-4a8d-a041-259cbb9abdc3 div.sk-serial {display: flex;flex-direction: column;align-items: center;background-color: white;}#sk-f7bdb885-8941-4a8d-a041-259cbb9abdc3 div.sk-item {z-index: 1;}#sk-f7bdb885-8941-4a8d-a041-259cbb9abdc3 div.sk-parallel {display: flex;align-items: stretch;justify-content: center;background-color: white;}#sk-f7bdb885-8941-4a8d-a041-259cbb9abdc3 div.sk-parallel-item {display: flex;flex-direction: column;position: relative;background-color: white;}#sk-f7bdb885-8941-4a8d-a041-259cbb9abdc3 div.sk-parallel-item:first-child::after {align-self: flex-end;width: 50%;}#sk-f7bdb885-8941-4a8d-a041-259cbb9abdc3 div.sk-parallel-item:last-child::after {align-self: flex-start;width: 50%;}#sk-f7bdb885-8941-4a8d-a041-259cbb9abdc3 div.sk-parallel-item:only-child::after {width: 0;}#sk-f7bdb885-8941-4a8d-a041-259cbb9abdc3 div.sk-dashed-wrapped {border: 1px dashed gray;margin: 0.2em;box-sizing: border-box;padding-bottom: 0.1em;background-color: white;position: relative;}#sk-f7bdb885-8941-4a8d-a041-259cbb9abdc3 div.sk-label label {font-family: monospace;font-weight: bold;background-color: white;display: inline-block;line-height: 1.2em;}#sk-f7bdb885-8941-4a8d-a041-259cbb9abdc3 div.sk-label-container {position: relative;z-index: 2;text-align: center;}#sk-f7bdb885-8941-4a8d-a041-259cbb9abdc3 div.sk-container {display: inline-block;position: relative;}</style><div id=\"sk-f7bdb885-8941-4a8d-a041-259cbb9abdc3\" class\"sk-top-container\"><div class=\"sk-container\"><div class=\"sk-item sk-dashed-wrapped\"><div class=\"sk-label-container\"><div class=\"sk-label sk-toggleable\"><input class=\"sk-toggleable__control sk-hidden--visually\" id=\"33d1ee3e-df15-486c-8900-9d18270ce2a5\" type=\"checkbox\" ><label class=\"sk-toggleable__label\" for=\"33d1ee3e-df15-486c-8900-9d18270ce2a5\">ColumnTransformer</label><div class=\"sk-toggleable__content\"><pre>ColumnTransformer(transformers=[('num',\n                                 Pipeline(steps=[('imputer', SimpleImputer())]),\n                                 ['Pclass', 'SibSp', 'Parch', 'Fare', 'Age']),\n                                ('cat',\n                                 Pipeline(steps=[('imputer',\n                                                  SimpleImputer(fill_value='missing',\n                                                                strategy='constant')),\n                                                 ('ordinal',\n                                                  OrdinalEncoder(handle_unknown='use_encoded_value',\n                                                                 unknown_value=10))]),\n                                 ['Sex', 'Embarked', 'Title'])])</pre></div></div></div><div class=\"sk-parallel\"><div class=\"sk-parallel-item\"><div class=\"sk-item\"><div class=\"sk-label-container\"><div class=\"sk-label sk-toggleable\"><input class=\"sk-toggleable__control sk-hidden--visually\" id=\"938864f8-39b2-4d09-a433-42f4dfe1ea63\" type=\"checkbox\" ><label class=\"sk-toggleable__label\" for=\"938864f8-39b2-4d09-a433-42f4dfe1ea63\">num</label><div class=\"sk-toggleable__content\"><pre>['Pclass', 'SibSp', 'Parch', 'Fare', 'Age']</pre></div></div></div><div class=\"sk-serial\"><div class=\"sk-item\"><div class=\"sk-serial\"><div class=\"sk-item\"><div class=\"sk-estimator sk-toggleable\"><input class=\"sk-toggleable__control sk-hidden--visually\" id=\"4bb25f71-3d8f-4a25-a15c-7667c002f125\" type=\"checkbox\" ><label class=\"sk-toggleable__label\" for=\"4bb25f71-3d8f-4a25-a15c-7667c002f125\">SimpleImputer</label><div class=\"sk-toggleable__content\"><pre>SimpleImputer()</pre></div></div></div></div></div></div></div></div><div class=\"sk-parallel-item\"><div class=\"sk-item\"><div class=\"sk-label-container\"><div class=\"sk-label sk-toggleable\"><input class=\"sk-toggleable__control sk-hidden--visually\" id=\"0f5c2080-f9b6-450d-949a-9664d1495636\" type=\"checkbox\" ><label class=\"sk-toggleable__label\" for=\"0f5c2080-f9b6-450d-949a-9664d1495636\">cat</label><div class=\"sk-toggleable__content\"><pre>['Sex', 'Embarked', 'Title']</pre></div></div></div><div class=\"sk-serial\"><div class=\"sk-item\"><div class=\"sk-serial\"><div class=\"sk-item\"><div class=\"sk-estimator sk-toggleable\"><input class=\"sk-toggleable__control sk-hidden--visually\" id=\"5e6ee9f2-6aba-40ae-9e87-925664f70679\" type=\"checkbox\" ><label class=\"sk-toggleable__label\" for=\"5e6ee9f2-6aba-40ae-9e87-925664f70679\">SimpleImputer</label><div class=\"sk-toggleable__content\"><pre>SimpleImputer(fill_value='missing', strategy='constant')</pre></div></div></div><div class=\"sk-item\"><div class=\"sk-estimator sk-toggleable\"><input class=\"sk-toggleable__control sk-hidden--visually\" id=\"c9e92861-4c4e-49ba-8e18-a288bc94110b\" type=\"checkbox\" ><label class=\"sk-toggleable__label\" for=\"c9e92861-4c4e-49ba-8e18-a288bc94110b\">OrdinalEncoder</label><div class=\"sk-toggleable__content\"><pre>OrdinalEncoder(handle_unknown='use_encoded_value', unknown_value=10)</pre></div></div></div></div></div></div></div></div></div></div></div></div>"
     },
     "metadata": {},
     "execution_count": 92
    }
   ],
   "source": [
    "'''\n",
    "num_preprocessing = pipeline.Pipeline(steps=[ ])\n",
    "\n",
    "cat_preporcessing = pipeline.Pipeline(steps=[\n",
    "  # Some SimpleImputer here\n",
    "  # Some Encoder here. Remember to handle_unknown\n",
    "])\n",
    "'''\n",
    "### BEGIN SOLUTION\n",
    "num_4_treeModels = pipeline.Pipeline(steps=[\n",
    "    ('imputer', impute.SimpleImputer(strategy='mean')),\n",
    "])\n",
    "\n",
    "cat_4_treeModels = pipeline.Pipeline(steps=[\n",
    "    ('imputer', impute.SimpleImputer(strategy='constant', fill_value='missing')),\n",
    "    ('ordinal', preprocessing.OrdinalEncoder(handle_unknown='use_encoded_value', unknown_value = 10)) #  ONLY IN VERSION 0.24\n",
    "])\n",
    "\n",
    "tree_prepro = compose.ColumnTransformer(transformers=[\n",
    "    ('num', num_4_treeModels, num_vars),\n",
    "    ('cat', cat_4_treeModels, cat_vars),\n",
    "], remainder='drop') # Drop other vars not specified in num_vars or cat_vars\n",
    "\n",
    "\n",
    "tree_prepro\n",
    "### END SOLUTION\n",
    "\n",
    "# Your code goes here"
   ]
  },
  {
   "cell_type": "code",
   "execution_count": 93,
   "metadata": {
    "nbgrader": {
     "grade": true,
     "grade_id": "cell-e636558135fb5975",
     "locked": true,
     "points": 2,
     "schema_version": 3,
     "solution": false,
     "task": false
    }
   },
   "outputs": [],
   "source": [
    "assert type(tree_prepro)      is compose._column_transformer.ColumnTransformer\n",
    "assert type(num_4_treeModels) is pipeline.Pipeline\n",
    "assert type(cat_4_treeModels) is pipeline.Pipeline\n",
    "assert len(num_4_treeModels) == 1\n",
    "assert len(cat_4_treeModels) == 2"
   ]
  },
  {
   "cell_type": "markdown",
   "metadata": {},
   "source": [
    "# Exercise 4 (1pts):\n",
    "1. Complete the diccionary with some Tree Models.\n",
    "2. Then we put each model in a Pipeline where:\n",
    "   - first is the prepocessing with the column Transformer\n",
    "   - Then is the Tree model\n",
    "3. Display the fullpipeline of the LGBMClassifier"
   ]
  },
  {
   "cell_type": "code",
   "execution_count": 94,
   "metadata": {},
   "outputs": [],
   "source": [
    "from sklearn.tree          import DecisionTreeClassifier\n",
    "from sklearn.ensemble      import ExtraTreesClassifier\n",
    "from sklearn.ensemble      import RandomForestClassifier\n",
    "from sklearn.ensemble      import AdaBoostClassifier\n",
    "from sklearn.ensemble      import GradientBoostingClassifier\n",
    "from sklearn.experimental  import enable_hist_gradient_boosting # Necesary for HistGradientBoostingClassifier\n",
    "from sklearn.ensemble      import HistGradientBoostingClassifier\n",
    "from xgboost               import XGBClassifier\n",
    "from lightgbm              import LGBMClassifier\n",
    "from catboost              import CatBoostClassifier"
   ]
  },
  {
   "cell_type": "code",
   "execution_count": 109,
   "metadata": {
    "nbgrader": {
     "grade": false,
     "grade_id": "cell-76a3be8223730c5a",
     "locked": false,
     "schema_version": 3,
     "solution": true,
     "task": false
    }
   },
   "outputs": [
    {
     "output_type": "execute_result",
     "data": {
      "text/plain": [
       "Pipeline(steps=[('columntransformer',\n",
       "                 ColumnTransformer(transformers=[('num',\n",
       "                                                  Pipeline(steps=[('imputer',\n",
       "                                                                   SimpleImputer())]),\n",
       "                                                  ['Pclass', 'SibSp', 'Parch',\n",
       "                                                   'Fare', 'Age']),\n",
       "                                                 ('cat',\n",
       "                                                  Pipeline(steps=[('imputer',\n",
       "                                                                   SimpleImputer(fill_value='missing',\n",
       "                                                                                 strategy='constant')),\n",
       "                                                                  ('ordinal',\n",
       "                                                                   OrdinalEncoder(handle_unknown='use_encoded_value',\n",
       "                                                                                  unknown_value=10))]),\n",
       "                                                  ['Sex', 'Embarked',\n",
       "                                                   'Title'])])),\n",
       "                ('lgbmclassifier', LGBMClassifier())])"
      ],
      "text/html": "<style>#sk-43217358-050f-43b5-9b75-ffb815bb5cca {color: black;background-color: white;}#sk-43217358-050f-43b5-9b75-ffb815bb5cca pre{padding: 0;}#sk-43217358-050f-43b5-9b75-ffb815bb5cca div.sk-toggleable {background-color: white;}#sk-43217358-050f-43b5-9b75-ffb815bb5cca label.sk-toggleable__label {cursor: pointer;display: block;width: 100%;margin-bottom: 0;padding: 0.2em 0.3em;box-sizing: border-box;text-align: center;}#sk-43217358-050f-43b5-9b75-ffb815bb5cca div.sk-toggleable__content {max-height: 0;max-width: 0;overflow: hidden;text-align: left;background-color: #f0f8ff;}#sk-43217358-050f-43b5-9b75-ffb815bb5cca div.sk-toggleable__content pre {margin: 0.2em;color: black;border-radius: 0.25em;background-color: #f0f8ff;}#sk-43217358-050f-43b5-9b75-ffb815bb5cca input.sk-toggleable__control:checked~div.sk-toggleable__content {max-height: 200px;max-width: 100%;overflow: auto;}#sk-43217358-050f-43b5-9b75-ffb815bb5cca div.sk-estimator input.sk-toggleable__control:checked~label.sk-toggleable__label {background-color: #d4ebff;}#sk-43217358-050f-43b5-9b75-ffb815bb5cca div.sk-label input.sk-toggleable__control:checked~label.sk-toggleable__label {background-color: #d4ebff;}#sk-43217358-050f-43b5-9b75-ffb815bb5cca input.sk-hidden--visually {border: 0;clip: rect(1px 1px 1px 1px);clip: rect(1px, 1px, 1px, 1px);height: 1px;margin: -1px;overflow: hidden;padding: 0;position: absolute;width: 1px;}#sk-43217358-050f-43b5-9b75-ffb815bb5cca div.sk-estimator {font-family: monospace;background-color: #f0f8ff;margin: 0.25em 0.25em;border: 1px dotted black;border-radius: 0.25em;box-sizing: border-box;}#sk-43217358-050f-43b5-9b75-ffb815bb5cca div.sk-estimator:hover {background-color: #d4ebff;}#sk-43217358-050f-43b5-9b75-ffb815bb5cca div.sk-parallel-item::after {content: \"\";width: 100%;border-bottom: 1px solid gray;flex-grow: 1;}#sk-43217358-050f-43b5-9b75-ffb815bb5cca div.sk-label:hover label.sk-toggleable__label {background-color: #d4ebff;}#sk-43217358-050f-43b5-9b75-ffb815bb5cca div.sk-serial::before {content: \"\";position: absolute;border-left: 1px solid gray;box-sizing: border-box;top: 2em;bottom: 0;left: 50%;}#sk-43217358-050f-43b5-9b75-ffb815bb5cca div.sk-serial {display: flex;flex-direction: column;align-items: center;background-color: white;}#sk-43217358-050f-43b5-9b75-ffb815bb5cca div.sk-item {z-index: 1;}#sk-43217358-050f-43b5-9b75-ffb815bb5cca div.sk-parallel {display: flex;align-items: stretch;justify-content: center;background-color: white;}#sk-43217358-050f-43b5-9b75-ffb815bb5cca div.sk-parallel-item {display: flex;flex-direction: column;position: relative;background-color: white;}#sk-43217358-050f-43b5-9b75-ffb815bb5cca div.sk-parallel-item:first-child::after {align-self: flex-end;width: 50%;}#sk-43217358-050f-43b5-9b75-ffb815bb5cca div.sk-parallel-item:last-child::after {align-self: flex-start;width: 50%;}#sk-43217358-050f-43b5-9b75-ffb815bb5cca div.sk-parallel-item:only-child::after {width: 0;}#sk-43217358-050f-43b5-9b75-ffb815bb5cca div.sk-dashed-wrapped {border: 1px dashed gray;margin: 0.2em;box-sizing: border-box;padding-bottom: 0.1em;background-color: white;position: relative;}#sk-43217358-050f-43b5-9b75-ffb815bb5cca div.sk-label label {font-family: monospace;font-weight: bold;background-color: white;display: inline-block;line-height: 1.2em;}#sk-43217358-050f-43b5-9b75-ffb815bb5cca div.sk-label-container {position: relative;z-index: 2;text-align: center;}#sk-43217358-050f-43b5-9b75-ffb815bb5cca div.sk-container {display: inline-block;position: relative;}</style><div id=\"sk-43217358-050f-43b5-9b75-ffb815bb5cca\" class\"sk-top-container\"><div class=\"sk-container\"><div class=\"sk-item sk-dashed-wrapped\"><div class=\"sk-label-container\"><div class=\"sk-label sk-toggleable\"><input class=\"sk-toggleable__control sk-hidden--visually\" id=\"005c2d9b-68aa-4f48-a6d4-dc94422ffe7f\" type=\"checkbox\" ><label class=\"sk-toggleable__label\" for=\"005c2d9b-68aa-4f48-a6d4-dc94422ffe7f\">Pipeline</label><div class=\"sk-toggleable__content\"><pre>Pipeline(steps=[('columntransformer',\n                 ColumnTransformer(transformers=[('num',\n                                                  Pipeline(steps=[('imputer',\n                                                                   SimpleImputer())]),\n                                                  ['Pclass', 'SibSp', 'Parch',\n                                                   'Fare', 'Age']),\n                                                 ('cat',\n                                                  Pipeline(steps=[('imputer',\n                                                                   SimpleImputer(fill_value='missing',\n                                                                                 strategy='constant')),\n                                                                  ('ordinal',\n                                                                   OrdinalEncoder(handle_unknown='use_encoded_value',\n                                                                                  unknown_value=10))]),\n                                                  ['Sex', 'Embarked',\n                                                   'Title'])])),\n                ('lgbmclassifier', LGBMClassifier())])</pre></div></div></div><div class=\"sk-serial\"><div class=\"sk-item sk-dashed-wrapped\"><div class=\"sk-label-container\"><div class=\"sk-label sk-toggleable\"><input class=\"sk-toggleable__control sk-hidden--visually\" id=\"42d49ab1-89da-4bc7-8fc8-99d54a7f547b\" type=\"checkbox\" ><label class=\"sk-toggleable__label\" for=\"42d49ab1-89da-4bc7-8fc8-99d54a7f547b\">columntransformer: ColumnTransformer</label><div class=\"sk-toggleable__content\"><pre>ColumnTransformer(transformers=[('num',\n                                 Pipeline(steps=[('imputer', SimpleImputer())]),\n                                 ['Pclass', 'SibSp', 'Parch', 'Fare', 'Age']),\n                                ('cat',\n                                 Pipeline(steps=[('imputer',\n                                                  SimpleImputer(fill_value='missing',\n                                                                strategy='constant')),\n                                                 ('ordinal',\n                                                  OrdinalEncoder(handle_unknown='use_encoded_value',\n                                                                 unknown_value=10))]),\n                                 ['Sex', 'Embarked', 'Title'])])</pre></div></div></div><div class=\"sk-parallel\"><div class=\"sk-parallel-item\"><div class=\"sk-item\"><div class=\"sk-label-container\"><div class=\"sk-label sk-toggleable\"><input class=\"sk-toggleable__control sk-hidden--visually\" id=\"99925762-943c-4e7e-baec-1a5fc30fa90b\" type=\"checkbox\" ><label class=\"sk-toggleable__label\" for=\"99925762-943c-4e7e-baec-1a5fc30fa90b\">num</label><div class=\"sk-toggleable__content\"><pre>['Pclass', 'SibSp', 'Parch', 'Fare', 'Age']</pre></div></div></div><div class=\"sk-serial\"><div class=\"sk-item\"><div class=\"sk-serial\"><div class=\"sk-item\"><div class=\"sk-estimator sk-toggleable\"><input class=\"sk-toggleable__control sk-hidden--visually\" id=\"9e3518eb-8f71-4bcc-8044-7e32ff8c0694\" type=\"checkbox\" ><label class=\"sk-toggleable__label\" for=\"9e3518eb-8f71-4bcc-8044-7e32ff8c0694\">SimpleImputer</label><div class=\"sk-toggleable__content\"><pre>SimpleImputer()</pre></div></div></div></div></div></div></div></div><div class=\"sk-parallel-item\"><div class=\"sk-item\"><div class=\"sk-label-container\"><div class=\"sk-label sk-toggleable\"><input class=\"sk-toggleable__control sk-hidden--visually\" id=\"c9ba8fb1-df22-4351-b6d3-f4a32c6407ef\" type=\"checkbox\" ><label class=\"sk-toggleable__label\" for=\"c9ba8fb1-df22-4351-b6d3-f4a32c6407ef\">cat</label><div class=\"sk-toggleable__content\"><pre>['Sex', 'Embarked', 'Title']</pre></div></div></div><div class=\"sk-serial\"><div class=\"sk-item\"><div class=\"sk-serial\"><div class=\"sk-item\"><div class=\"sk-estimator sk-toggleable\"><input class=\"sk-toggleable__control sk-hidden--visually\" id=\"56d06332-8e7f-48ff-bf7a-5d288c261f6e\" type=\"checkbox\" ><label class=\"sk-toggleable__label\" for=\"56d06332-8e7f-48ff-bf7a-5d288c261f6e\">SimpleImputer</label><div class=\"sk-toggleable__content\"><pre>SimpleImputer(fill_value='missing', strategy='constant')</pre></div></div></div><div class=\"sk-item\"><div class=\"sk-estimator sk-toggleable\"><input class=\"sk-toggleable__control sk-hidden--visually\" id=\"d9736285-873c-4251-950b-8018755a1ffb\" type=\"checkbox\" ><label class=\"sk-toggleable__label\" for=\"d9736285-873c-4251-950b-8018755a1ffb\">OrdinalEncoder</label><div class=\"sk-toggleable__content\"><pre>OrdinalEncoder(handle_unknown='use_encoded_value', unknown_value=10)</pre></div></div></div></div></div></div></div></div></div></div><div class=\"sk-item\"><div class=\"sk-estimator sk-toggleable\"><input class=\"sk-toggleable__control sk-hidden--visually\" id=\"4c3c41af-e81e-44cd-ae9f-2438694e556f\" type=\"checkbox\" ><label class=\"sk-toggleable__label\" for=\"4c3c41af-e81e-44cd-ae9f-2438694e556f\">LGBMClassifier</label><div class=\"sk-toggleable__content\"><pre>LGBMClassifier()</pre></div></div></div></div></div></div></div>"
     },
     "metadata": {},
     "execution_count": 109
    }
   ],
   "source": [
    "\n",
    "tree_classifiers = {\n",
    "  \"Decision Tree\": DecisionTreeClassifier(),\n",
    "  \"Extra Trees\": ExtraTreesClassifier(n_estimators=100),\n",
    "  \"Random Forest\": RandomForestClassifier(n_estimators=100),\n",
    "  \"AdaBoost\": AdaBoostClassifier(n_estimators=100),\n",
    "  \"Skl GBM\": GradientBoostingClassifier(n_estimators=100),\n",
    "  \"Skl HistGBM\": HistGradientBoostingClassifier(max_iter=100),\n",
    "  \"XGBoost\": XGBClassifier(n_estimators=100),\n",
    "  \"LightGBM\": LGBMClassifier(n_estimators=100),\n",
    "  \"CatBoost\": CatBoostClassifier(n_estimators=100)\n",
    "}\n",
    "\n",
    "\n",
    "tree_classifiers = {name: pipeline.make_pipeline(tree_prepro, model) for name, model in tree_classifiers.items()}\n",
    "\n",
    "tree_classifiers[\"LightGBM\"]"
   ]
  },
  {
   "cell_type": "code",
   "execution_count": 110,
   "metadata": {
    "nbgrader": {
     "grade": true,
     "grade_id": "cell-d4744022b37e2e9b",
     "locked": true,
     "points": 1,
     "schema_version": 3,
     "solution": false,
     "task": false
    }
   },
   "outputs": [],
   "source": [
    "for pipe in tree_classifiers.values():\n",
    "    assert type(pipe) is pipeline.Pipeline"
   ]
  },
  {
   "cell_type": "markdown",
   "metadata": {},
   "source": [
    "# Exercise 5 (3pts):\n",
    "Define a simple split validation strategy with:\n",
    "- 80% for train\n",
    "- 20% for validation\n",
    "- With stratification\n",
    "- random_state=0\n",
    "\n",
    "And train all the models in a for loop"
   ]
  },
  {
   "cell_type": "code",
   "execution_count": 111,
   "metadata": {
    "colab": {
     "base_uri": "https://localhost:8080/",
     "height": 173
    },
    "colab_type": "code",
    "id": "kY1uWk6-OcLw",
    "nbgrader": {
     "grade": false,
     "grade_id": "cell-64f17e0d448bca7e",
     "locked": false,
     "schema_version": 3,
     "solution": true,
     "task": false
    },
    "outputId": "3562463f-3197-424c-dc82-b07ad579e9cc",
    "tags": []
   },
   "outputs": [
    {
     "output_type": "stream",
     "name": "stderr",
     "text": [
      "C:\\Users\\Jon\\.conda\\envs\\NLP\\lib\\site-packages\\xgboost\\sklearn.py:888: UserWarning: The use of label encoder in XGBClassifier is deprecated and will be removed in a future release. To remove this warning, do the following: 1) Pass option use_label_encoder=False when constructing XGBClassifier object; and 2) Encode your labels (y) as integers starting with 0, i.e. 0, 1, 2, ..., [num_class - 1].\n",
      "  warnings.warn(label_encoder_deprecation_msg, UserWarning)\n",
      "[16:11:33] WARNING: ..\\src\\learner.cc:1061: Starting in XGBoost 1.3.0, the default evaluation metric used with the objective 'binary:logistic' was changed from 'error' to 'logloss'. Explicitly set eval_metric if you'd like to restore the old behavior.\n",
      "Learning rate set to 0.073611\n",
      "0:\tlearn: 0.6698078\ttotal: 29.8ms\tremaining: 2.95s\n",
      "1:\tlearn: 0.6443828\ttotal: 31.4ms\tremaining: 1.54s\n",
      "2:\tlearn: 0.6218994\ttotal: 32.4ms\tremaining: 1.05s\n",
      "3:\tlearn: 0.6043828\ttotal: 32.9ms\tremaining: 789ms\n",
      "4:\tlearn: 0.5864178\ttotal: 33.7ms\tremaining: 641ms\n",
      "5:\tlearn: 0.5674009\ttotal: 34.8ms\tremaining: 545ms\n",
      "6:\tlearn: 0.5502413\ttotal: 35.8ms\tremaining: 475ms\n",
      "7:\tlearn: 0.5385688\ttotal: 36.2ms\tremaining: 417ms\n",
      "8:\tlearn: 0.5278519\ttotal: 37.2ms\tremaining: 377ms\n",
      "9:\tlearn: 0.5157058\ttotal: 38.2ms\tremaining: 344ms\n",
      "10:\tlearn: 0.5069791\ttotal: 38.9ms\tremaining: 315ms\n",
      "11:\tlearn: 0.4964919\ttotal: 39.8ms\tremaining: 292ms\n",
      "12:\tlearn: 0.4879285\ttotal: 40.7ms\tremaining: 273ms\n",
      "13:\tlearn: 0.4788852\ttotal: 41.8ms\tremaining: 257ms\n",
      "14:\tlearn: 0.4714383\ttotal: 42.9ms\tremaining: 243ms\n",
      "15:\tlearn: 0.4639699\ttotal: 43.8ms\tremaining: 230ms\n",
      "16:\tlearn: 0.4575617\ttotal: 44.6ms\tremaining: 218ms\n",
      "17:\tlearn: 0.4512688\ttotal: 45.9ms\tremaining: 209ms\n",
      "18:\tlearn: 0.4467044\ttotal: 46.9ms\tremaining: 200ms\n",
      "19:\tlearn: 0.4422501\ttotal: 47.9ms\tremaining: 192ms\n",
      "20:\tlearn: 0.4375292\ttotal: 48.7ms\tremaining: 183ms\n",
      "21:\tlearn: 0.4338632\ttotal: 49.6ms\tremaining: 176ms\n",
      "22:\tlearn: 0.4298080\ttotal: 50.5ms\tremaining: 169ms\n",
      "23:\tlearn: 0.4265791\ttotal: 51.3ms\tremaining: 163ms\n",
      "24:\tlearn: 0.4236885\ttotal: 52.3ms\tremaining: 157ms\n",
      "25:\tlearn: 0.4199174\ttotal: 53.3ms\tremaining: 152ms\n",
      "26:\tlearn: 0.4173333\ttotal: 54ms\tremaining: 146ms\n",
      "27:\tlearn: 0.4139776\ttotal: 55.3ms\tremaining: 142ms\n",
      "28:\tlearn: 0.4115346\ttotal: 56.9ms\tremaining: 139ms\n",
      "29:\tlearn: 0.4086804\ttotal: 58.2ms\tremaining: 136ms\n",
      "30:\tlearn: 0.4067002\ttotal: 59.4ms\tremaining: 132ms\n",
      "31:\tlearn: 0.4044095\ttotal: 61.1ms\tremaining: 130ms\n",
      "32:\tlearn: 0.4021157\ttotal: 62.5ms\tremaining: 127ms\n",
      "33:\tlearn: 0.4000891\ttotal: 63.6ms\tremaining: 123ms\n",
      "34:\tlearn: 0.3980738\ttotal: 64.4ms\tremaining: 120ms\n",
      "35:\tlearn: 0.3961461\ttotal: 65.2ms\tremaining: 116ms\n",
      "36:\tlearn: 0.3945712\ttotal: 66.1ms\tremaining: 113ms\n",
      "37:\tlearn: 0.3941325\ttotal: 66.5ms\tremaining: 108ms\n",
      "38:\tlearn: 0.3927796\ttotal: 67.4ms\tremaining: 105ms\n",
      "39:\tlearn: 0.3917335\ttotal: 68.2ms\tremaining: 102ms\n",
      "40:\tlearn: 0.3901371\ttotal: 69.1ms\tremaining: 99.4ms\n",
      "41:\tlearn: 0.3886736\ttotal: 70.1ms\tremaining: 96.8ms\n",
      "42:\tlearn: 0.3874158\ttotal: 70.8ms\tremaining: 93.9ms\n",
      "43:\tlearn: 0.3864092\ttotal: 72ms\tremaining: 91.6ms\n",
      "44:\tlearn: 0.3849329\ttotal: 73.4ms\tremaining: 89.7ms\n",
      "45:\tlearn: 0.3833915\ttotal: 74.4ms\tremaining: 87.3ms\n",
      "46:\tlearn: 0.3824903\ttotal: 75.5ms\tremaining: 85.2ms\n",
      "47:\tlearn: 0.3813120\ttotal: 76.7ms\tremaining: 83.1ms\n",
      "48:\tlearn: 0.3803835\ttotal: 77.8ms\tremaining: 81ms\n",
      "49:\tlearn: 0.3786904\ttotal: 78.9ms\tremaining: 78.9ms\n",
      "50:\tlearn: 0.3776630\ttotal: 80ms\tremaining: 76.8ms\n",
      "51:\tlearn: 0.3768811\ttotal: 85.1ms\tremaining: 78.5ms\n",
      "52:\tlearn: 0.3757246\ttotal: 86.7ms\tremaining: 76.9ms\n",
      "53:\tlearn: 0.3752322\ttotal: 87.9ms\tremaining: 74.9ms\n",
      "54:\tlearn: 0.3742985\ttotal: 89.4ms\tremaining: 73.1ms\n",
      "55:\tlearn: 0.3735267\ttotal: 90.6ms\tremaining: 71.2ms\n",
      "56:\tlearn: 0.3724854\ttotal: 91.7ms\tremaining: 69.2ms\n",
      "57:\tlearn: 0.3714319\ttotal: 93ms\tremaining: 67.3ms\n",
      "58:\tlearn: 0.3707990\ttotal: 94.3ms\tremaining: 65.5ms\n",
      "59:\tlearn: 0.3701976\ttotal: 95.3ms\tremaining: 63.5ms\n",
      "60:\tlearn: 0.3689805\ttotal: 96.2ms\tremaining: 61.5ms\n",
      "61:\tlearn: 0.3679570\ttotal: 97.1ms\tremaining: 59.5ms\n",
      "62:\tlearn: 0.3670376\ttotal: 98.2ms\tremaining: 57.7ms\n",
      "63:\tlearn: 0.3660535\ttotal: 99.5ms\tremaining: 56ms\n",
      "64:\tlearn: 0.3653140\ttotal: 100ms\tremaining: 54.1ms\n",
      "65:\tlearn: 0.3652447\ttotal: 101ms\tremaining: 52ms\n",
      "66:\tlearn: 0.3645845\ttotal: 102ms\tremaining: 50.2ms\n",
      "67:\tlearn: 0.3641947\ttotal: 103ms\tremaining: 48.4ms\n",
      "68:\tlearn: 0.3637426\ttotal: 104ms\tremaining: 46.6ms\n",
      "69:\tlearn: 0.3632031\ttotal: 105ms\tremaining: 44.9ms\n",
      "70:\tlearn: 0.3626162\ttotal: 106ms\tremaining: 43.3ms\n",
      "71:\tlearn: 0.3622052\ttotal: 107ms\tremaining: 41.6ms\n",
      "72:\tlearn: 0.3617613\ttotal: 108ms\tremaining: 40ms\n",
      "73:\tlearn: 0.3611215\ttotal: 109ms\tremaining: 38.3ms\n",
      "74:\tlearn: 0.3605319\ttotal: 110ms\tremaining: 36.6ms\n",
      "75:\tlearn: 0.3602089\ttotal: 111ms\tremaining: 35ms\n",
      "76:\tlearn: 0.3600241\ttotal: 112ms\tremaining: 33.3ms\n",
      "77:\tlearn: 0.3595306\ttotal: 112ms\tremaining: 31.7ms\n",
      "78:\tlearn: 0.3590898\ttotal: 113ms\tremaining: 30.1ms\n",
      "79:\tlearn: 0.3588357\ttotal: 114ms\tremaining: 28.5ms\n",
      "80:\tlearn: 0.3583083\ttotal: 115ms\tremaining: 26.9ms\n",
      "81:\tlearn: 0.3581818\ttotal: 116ms\tremaining: 25.4ms\n",
      "82:\tlearn: 0.3580446\ttotal: 117ms\tremaining: 23.9ms\n",
      "83:\tlearn: 0.3576652\ttotal: 118ms\tremaining: 22.4ms\n",
      "84:\tlearn: 0.3573439\ttotal: 118ms\tremaining: 20.8ms\n",
      "85:\tlearn: 0.3565193\ttotal: 119ms\tremaining: 19.4ms\n",
      "86:\tlearn: 0.3558411\ttotal: 120ms\tremaining: 18ms\n",
      "87:\tlearn: 0.3551271\ttotal: 121ms\tremaining: 16.5ms\n",
      "88:\tlearn: 0.3543489\ttotal: 122ms\tremaining: 15.1ms\n",
      "89:\tlearn: 0.3539920\ttotal: 123ms\tremaining: 13.7ms\n",
      "90:\tlearn: 0.3534607\ttotal: 124ms\tremaining: 12.3ms\n",
      "91:\tlearn: 0.3528962\ttotal: 126ms\tremaining: 10.9ms\n",
      "92:\tlearn: 0.3518610\ttotal: 128ms\tremaining: 9.6ms\n",
      "93:\tlearn: 0.3516001\ttotal: 129ms\tremaining: 8.21ms\n",
      "94:\tlearn: 0.3506000\ttotal: 129ms\tremaining: 6.81ms\n",
      "95:\tlearn: 0.3500308\ttotal: 130ms\tremaining: 5.43ms\n",
      "96:\tlearn: 0.3492377\ttotal: 131ms\tremaining: 4.06ms\n",
      "97:\tlearn: 0.3487606\ttotal: 132ms\tremaining: 2.69ms\n",
      "98:\tlearn: 0.3482684\ttotal: 133ms\tremaining: 1.35ms\n",
      "99:\tlearn: 0.3477031\ttotal: 135ms\tremaining: 0us\n"
     ]
    },
    {
     "output_type": "execute_result",
     "data": {
      "text/plain": [
       "           Model   Accuracy   Bal Acc.      Time\n",
       "1        Skl GBM  84.916201  82.595520  0.114522\n",
       "2        XGBoost  81.564246  78.787879  0.095254\n",
       "3    Skl HistGBM  81.005587  78.603426  0.627327\n",
       "4       LightGBM  81.005587  78.333333  0.087765\n",
       "5  Random Forest  79.888268  77.424242  0.181974\n",
       "6       CatBoost  79.888268  76.613966  0.220950\n",
       "7       AdaBoost  78.770950  76.785244  0.247110\n",
       "8  Decision Tree  77.094972  75.691700  0.027718\n",
       "9    Extra Trees  74.301676  72.068511  0.199906"
      ],
      "text/html": "<div>\n<style scoped>\n    .dataframe tbody tr th:only-of-type {\n        vertical-align: middle;\n    }\n\n    .dataframe tbody tr th {\n        vertical-align: top;\n    }\n\n    .dataframe thead th {\n        text-align: right;\n    }\n</style>\n<table border=\"1\" class=\"dataframe\">\n  <thead>\n    <tr style=\"text-align: right;\">\n      <th></th>\n      <th>Model</th>\n      <th>Accuracy</th>\n      <th>Bal Acc.</th>\n      <th>Time</th>\n    </tr>\n  </thead>\n  <tbody>\n    <tr>\n      <th>1</th>\n      <td>Skl GBM</td>\n      <td>84.916201</td>\n      <td>82.595520</td>\n      <td>0.114522</td>\n    </tr>\n    <tr>\n      <th>2</th>\n      <td>XGBoost</td>\n      <td>81.564246</td>\n      <td>78.787879</td>\n      <td>0.095254</td>\n    </tr>\n    <tr>\n      <th>3</th>\n      <td>Skl HistGBM</td>\n      <td>81.005587</td>\n      <td>78.603426</td>\n      <td>0.627327</td>\n    </tr>\n    <tr>\n      <th>4</th>\n      <td>LightGBM</td>\n      <td>81.005587</td>\n      <td>78.333333</td>\n      <td>0.087765</td>\n    </tr>\n    <tr>\n      <th>5</th>\n      <td>Random Forest</td>\n      <td>79.888268</td>\n      <td>77.424242</td>\n      <td>0.181974</td>\n    </tr>\n    <tr>\n      <th>6</th>\n      <td>CatBoost</td>\n      <td>79.888268</td>\n      <td>76.613966</td>\n      <td>0.220950</td>\n    </tr>\n    <tr>\n      <th>7</th>\n      <td>AdaBoost</td>\n      <td>78.770950</td>\n      <td>76.785244</td>\n      <td>0.247110</td>\n    </tr>\n    <tr>\n      <th>8</th>\n      <td>Decision Tree</td>\n      <td>77.094972</td>\n      <td>75.691700</td>\n      <td>0.027718</td>\n    </tr>\n    <tr>\n      <th>9</th>\n      <td>Extra Trees</td>\n      <td>74.301676</td>\n      <td>72.068511</td>\n      <td>0.199906</td>\n    </tr>\n  </tbody>\n</table>\n</div>"
     },
     "metadata": {},
     "execution_count": 111
    }
   ],
   "source": [
    "\n",
    "x_train, x_val, y_train, y_val = model_selection.train_test_split(x, y, test_size= 0.2, stratify = y, random_state = 0 )\n",
    "\n",
    "\n",
    "results = pd.DataFrame({'Model': [], 'Accuracy': [], 'Bal Acc.': [], 'Time': []})\n",
    "\n",
    "\n",
    "for model_name, model in tree_classifiers.items():\n",
    "    start_time = time.time()\n",
    "    \n",
    "    #print(type(model))\n",
    "    # FOR EVERY PIPELINE (PREPRO + MODEL) -> TRAIN WITH TRAIN DATA (x_train)\n",
    "    model.fit(x_train, y_train)\n",
    "    \n",
    "    # GET PREDICTIONS USING x_val\n",
    "    pred = model.predict(x_val)\n",
    "\n",
    "    total_time = time.time() - start_time\n",
    "\n",
    "    results = results.append({\"Model\":    model_name,\n",
    "                              \"Accuracy\": metrics.accuracy_score(y_val, pred)*100,\n",
    "                              \"Bal Acc.\": metrics.balanced_accuracy_score(y_val, pred)*100,\n",
    "                              \"Time\":     total_time},\n",
    "                              ignore_index=True)\n",
    "                                                        \n",
    "\n",
    "# Your code goes here\n",
    "\n",
    "results_ord = results.sort_values(by=['Accuracy'], ascending=False, ignore_index=True)\n",
    "results_ord.index += 1 \n",
    "#results_ord.style.bar(subset=['Accuracy', 'Bal Acc.'], vmin=0, vmax=100, color='#5fba7d')\n",
    "results_ord"
   ]
  },
  {
   "cell_type": "code",
   "execution_count": 112,
   "metadata": {
    "nbgrader": {
     "grade": true,
     "grade_id": "cell-af27b33fe88ad384",
     "locked": true,
     "points": 3,
     "schema_version": 3,
     "solution": false,
     "task": false
    }
   },
   "outputs": [
    {
     "output_type": "error",
     "ename": "AssertionError",
     "evalue": "",
     "traceback": [
      "\u001b[1;31m---------------------------------------------------------------------------\u001b[0m",
      "\u001b[1;31mAssertionError\u001b[0m                            Traceback (most recent call last)",
      "\u001b[1;32m<ipython-input-112-b57998e2e157>\u001b[0m in \u001b[0;36m<module>\u001b[1;34m\u001b[0m\n\u001b[1;32m----> 1\u001b[1;33m \u001b[1;32massert\u001b[0m \u001b[0mresults_ord\u001b[0m\u001b[1;33m[\u001b[0m\u001b[1;34m\"Accuracy\"\u001b[0m\u001b[1;33m]\u001b[0m\u001b[1;33m.\u001b[0m\u001b[0mmin\u001b[0m\u001b[1;33m(\u001b[0m\u001b[1;33m)\u001b[0m \u001b[1;33m>\u001b[0m \u001b[1;36m75\u001b[0m\u001b[1;33m\u001b[0m\u001b[1;33m\u001b[0m\u001b[0m\n\u001b[0m\u001b[0;32m      2\u001b[0m \u001b[1;32massert\u001b[0m \u001b[0mresults_ord\u001b[0m\u001b[1;33m[\u001b[0m\u001b[1;34m\"Bal Acc.\"\u001b[0m\u001b[1;33m]\u001b[0m\u001b[1;33m.\u001b[0m\u001b[0mmin\u001b[0m\u001b[1;33m(\u001b[0m\u001b[1;33m)\u001b[0m \u001b[1;33m>\u001b[0m \u001b[1;36m70\u001b[0m\u001b[1;33m\u001b[0m\u001b[1;33m\u001b[0m\u001b[0m\n\u001b[0;32m      3\u001b[0m \u001b[1;32massert\u001b[0m \u001b[0mlen\u001b[0m\u001b[1;33m(\u001b[0m\u001b[0mresults_ord\u001b[0m\u001b[1;33m)\u001b[0m \u001b[1;33m==\u001b[0m \u001b[1;36m9\u001b[0m\u001b[1;33m\u001b[0m\u001b[1;33m\u001b[0m\u001b[0m\n",
      "\u001b[1;31mAssertionError\u001b[0m: "
     ]
    }
   ],
   "source": [
    "assert results_ord[\"Accuracy\"].min() > 75\n",
    "assert results_ord[\"Bal Acc.\"].min() > 70\n",
    "assert len(results_ord) == 9"
   ]
  },
  {
   "cell_type": "markdown",
   "metadata": {},
   "source": [
    "# Exercise 6 (3pts):\n",
    "Define a 10 Fold cross validation strategy with:\n",
    "- With stratification\n",
    "- shuffle=True\n",
    "- random_state=0\n",
    "\n",
    "And train all the models in a for loop.\n",
    "\n",
    "Tip you can use **[cross_val_predict](https://scikit-learn.org/stable/modules/generated/sklearn.model_selection.cross_val_predict.html)** for both training and predict with "
   ]
  },
  {
   "cell_type": "code",
   "execution_count": 106,
   "metadata": {
    "nbgrader": {
     "grade": false,
     "grade_id": "cell-37bf16dc25b43732",
     "locked": false,
     "schema_version": 3,
     "solution": true,
     "task": false
    },
    "scrolled": true
   },
   "outputs": [
    {
     "output_type": "execute_result",
     "data": {
      "text/plain": [
       "<pandas.io.formats.style.Styler at 0x297aa7b8d30>"
      ],
      "text/html": "<style  type=\"text/css\" >\n</style><table id=\"T_3daaa_\" ><thead>    <tr>        <th class=\"blank level0\" ></th>        <th class=\"col_heading level0 col0\" >Model</th>        <th class=\"col_heading level0 col1\" >Accuracy</th>        <th class=\"col_heading level0 col2\" >Bal Acc.</th>        <th class=\"col_heading level0 col3\" >Time</th>    </tr></thead><tbody>\n        </tbody></table>"
     },
     "metadata": {},
     "execution_count": 106
    }
   ],
   "source": [
    "\"\"\"\n",
    "skf = model_selection.StratifiedKFold(\n",
    "    # CODE HERE\n",
    ")\n",
    "\"\"\"\n",
    "# Your code goes here\n",
    "\n",
    "results = pd.DataFrame({'Model': [], 'Accuracy': [], 'Bal Acc.': [], 'Time': []})\n",
    "\n",
    "\"\"\"\n",
    "for model_name, model in tree_classifiers.items():\n",
    "    start_time = time.time()\n",
    "        \n",
    "    # TRAIN AND GET PREDICTIONS USING cross_val_predict() and x,y\n",
    "    pred = # CODE HERE\n",
    "\n",
    "    total_time = time.time() - start_time\n",
    "\n",
    "    results = results.append({\"Model\":    model_name,\n",
    "                              \"Accuracy\": metrics.accuracy_score(y_val, pred)*100,\n",
    "                              \"Bal Acc.\": metrics.balanced_accuracy_score(y_val, pred)*100,\n",
    "                              \"Time\":     total_time},\n",
    "                              ignore_index=True)\n",
    "                              \n",
    "                              \n",
    "\"\"\"\n",
    "\n",
    "# Your code goes here\n",
    "\n",
    "\n",
    "results_ord = results.sort_values(by=['Accuracy'], ascending=False, ignore_index=True)\n",
    "results_ord.index += 1 \n",
    "results_ord.style.bar(subset=['Accuracy', 'Bal Acc.'], vmin=0, vmax=100, color='#5fba7d')"
   ]
  },
  {
   "cell_type": "code",
   "execution_count": 107,
   "metadata": {
    "nbgrader": {
     "grade": true,
     "grade_id": "cell-57cc085faad513cf",
     "locked": true,
     "points": 3,
     "schema_version": 3,
     "solution": false,
     "task": false
    }
   },
   "outputs": [
    {
     "output_type": "error",
     "ename": "AssertionError",
     "evalue": "",
     "traceback": [
      "\u001b[1;31m---------------------------------------------------------------------------\u001b[0m",
      "\u001b[1;31mAssertionError\u001b[0m                            Traceback (most recent call last)",
      "\u001b[1;32m<ipython-input-107-50685871c2e2>\u001b[0m in \u001b[0;36m<module>\u001b[1;34m\u001b[0m\n\u001b[1;32m----> 1\u001b[1;33m \u001b[1;32massert\u001b[0m \u001b[0mresults_ord\u001b[0m\u001b[1;33m[\u001b[0m\u001b[1;34m\"Accuracy\"\u001b[0m\u001b[1;33m]\u001b[0m\u001b[1;33m.\u001b[0m\u001b[0mmin\u001b[0m\u001b[1;33m(\u001b[0m\u001b[1;33m)\u001b[0m \u001b[1;33m>\u001b[0m \u001b[1;36m75\u001b[0m\u001b[1;33m\u001b[0m\u001b[1;33m\u001b[0m\u001b[0m\n\u001b[0m\u001b[0;32m      2\u001b[0m \u001b[1;32massert\u001b[0m \u001b[0mresults_ord\u001b[0m\u001b[1;33m[\u001b[0m\u001b[1;34m\"Bal Acc.\"\u001b[0m\u001b[1;33m]\u001b[0m\u001b[1;33m.\u001b[0m\u001b[0mmin\u001b[0m\u001b[1;33m(\u001b[0m\u001b[1;33m)\u001b[0m \u001b[1;33m>\u001b[0m \u001b[1;36m75\u001b[0m\u001b[1;33m\u001b[0m\u001b[1;33m\u001b[0m\u001b[0m\n\u001b[0;32m      3\u001b[0m \u001b[1;32massert\u001b[0m \u001b[0mlen\u001b[0m\u001b[1;33m(\u001b[0m\u001b[0mresults_ord\u001b[0m\u001b[1;33m)\u001b[0m \u001b[1;33m==\u001b[0m \u001b[1;36m9\u001b[0m\u001b[1;33m\u001b[0m\u001b[1;33m\u001b[0m\u001b[0m\n",
      "\u001b[1;31mAssertionError\u001b[0m: "
     ]
    }
   ],
   "source": [
    "assert results_ord[\"Accuracy\"].min() > 75\n",
    "assert results_ord[\"Bal Acc.\"].min() > 75\n",
    "assert len(results_ord) == 9"
   ]
  },
  {
   "cell_type": "markdown",
   "metadata": {},
   "source": [
    "# Exercise 7.1\n",
    "Train with all data the best model"
   ]
  },
  {
   "cell_type": "code",
   "execution_count": null,
   "metadata": {
    "colab": {},
    "colab_type": "code",
    "id": "monuuQhHL7B_"
   },
   "outputs": [],
   "source": [
    "# best_model = tree_classifiers[\"SELECT MY BEST MODEL HERE\"]\n",
    "\n",
    "# Fit best model with all data\n",
    "\n",
    "\n",
    "# Your code goes here"
   ]
  },
  {
   "cell_type": "markdown",
   "metadata": {},
   "source": [
    "# Exercise 7.2 (2pts)\n",
    "With your best model, generate the predicitions for test data (x_test)"
   ]
  },
  {
   "cell_type": "code",
   "execution_count": null,
   "metadata": {
    "nbgrader": {
     "grade": false,
     "grade_id": "cell-44b93a0dbd4eb6fc",
     "locked": false,
     "schema_version": 3,
     "solution": true,
     "task": false
    }
   },
   "outputs": [],
   "source": [
    "# test_pred = # Get the predictions for x_test\n",
    "\n",
    "# Your code goes here"
   ]
  },
  {
   "cell_type": "code",
   "execution_count": null,
   "metadata": {
    "nbgrader": {
     "grade": true,
     "grade_id": "cell-a29fc8d24284520e",
     "locked": true,
     "points": 2,
     "schema_version": 3,
     "solution": false,
     "task": false
    }
   },
   "outputs": [],
   "source": [
    "assert len(test_pred) == 418\n",
    "assert np.unique(test_pred).tolist() == [0,1]"
   ]
  },
  {
   "cell_type": "markdown",
   "metadata": {},
   "source": [
    "# Exercise 7.3\n",
    "\n",
    "Submit to kaggle.\n",
    "\n",
    "- You can use the kaggle command line app. Check https://github.com/Kaggle/kaggle-api"
   ]
  },
  {
   "cell_type": "code",
   "execution_count": null,
   "metadata": {},
   "outputs": [],
   "source": [
    "sub = pd.DataFrame(test_pred, index=x_test.index, columns=[\"Survived\"])\n",
    "sub.head()"
   ]
  },
  {
   "cell_type": "code",
   "execution_count": null,
   "metadata": {},
   "outputs": [],
   "source": [
    "sub.to_csv(\"sub.csv\")"
   ]
  },
  {
   "cell_type": "code",
   "execution_count": null,
   "metadata": {},
   "outputs": [],
   "source": [
    "!kaggle competitions submit -c titanic -f sub.csv -m \"My submission message\""
   ]
  }
 ],
 "metadata": {
  "anaconda-cloud": {},
  "celltoolbar": "Create Assignment",
  "colab": {
   "collapsed_sections": [],
   "name": "Titanic LogReg.ipynb",
   "provenance": []
  },
  "kernelspec": {
   "name": "python3",
   "display_name": "Python 3.8.8 64-bit ('NLP': conda)"
  },
  "language_info": {
   "codemirror_mode": {
    "name": "ipython",
    "version": 3
   },
   "file_extension": ".py",
   "mimetype": "text/x-python",
   "name": "python",
   "nbconvert_exporter": "python",
   "pygments_lexer": "ipython3",
   "version": "3.8.8"
  },
  "name": "seminar13_optional_practice_trees_titanic.ipynb",
  "interpreter": {
   "hash": "c2ad988b83bc3032ab0bc6c9b326315d9b3145f093b7c28f6f9e14e1089dbd73"
  }
 },
 "nbformat": 4,
 "nbformat_minor": 4
}